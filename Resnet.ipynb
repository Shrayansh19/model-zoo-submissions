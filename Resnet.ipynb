{
  "nbformat": 4,
  "nbformat_minor": 0,
  "metadata": {
    "colab": {
      "name": "Resnet.ipynb",
      "provenance": [],
      "authorship_tag": "ABX9TyM1OrnoUsiS+sDi8X4Chm6q",
      "include_colab_link": true
    },
    "kernelspec": {
      "name": "python3",
      "display_name": "Python 3"
    },
    "language_info": {
      "name": "python"
    },
    "accelerator": "GPU"
  },
  "cells": [
    {
      "cell_type": "markdown",
      "metadata": {
        "id": "view-in-github",
        "colab_type": "text"
      },
      "source": [
        "<a href=\"https://colab.research.google.com/github/Shrayansh19/model-zoo-submissions/blob/main/Resnet.ipynb\" target=\"_parent\"><img src=\"https://colab.research.google.com/assets/colab-badge.svg\" alt=\"Open In Colab\"/></a>"
      ]
    },
    {
      "cell_type": "code",
      "metadata": {
        "id": "8RwdzhL0wYc2"
      },
      "source": [
        "import os\n",
        "import math\n",
        "import tensorflow as tf\n",
        "import matplotlib.pyplot as plt\n",
        "\n",
        "import warnings\n",
        "warnings.filterwarnings('ignore')"
      ],
      "execution_count": 3,
      "outputs": []
    },
    {
      "cell_type": "code",
      "metadata": {
        "colab": {
          "base_uri": "https://localhost:8080/"
        },
        "id": "5tnN6fGaxlhu",
        "outputId": "f81aee58-649c-4c51-871d-345d609abc0d"
      },
      "source": [
        "(x_train, y_train), (x_test, y_test) = tf.keras.datasets.cifar10.load_data()\n",
        "x_train. shape"
      ],
      "execution_count": 4,
      "outputs": [
        {
          "output_type": "execute_result",
          "data": {
            "text/plain": [
              "(50000, 32, 32, 3)"
            ]
          },
          "metadata": {
            "tags": []
          },
          "execution_count": 4
        }
      ]
    },
    {
      "cell_type": "code",
      "metadata": {
        "id": "7NVoYt9kw1Q7"
      },
      "source": [
        "def BasicBlock(inputs, filter_num, training=None, stride=1, **kwargs):\n",
        "  \n",
        "  if stride != 1:\n",
        "    downsample = tf.keras.Sequential()\n",
        "    downsample.add(tf.keras.layers.Conv2D(filters=filter_num,\n",
        "                                          kernel_size=(1, 1),\n",
        "                                          strides=stride))\n",
        "    downsample.add(tf.keras.layers.BatchNormalization())\n",
        "  else:\n",
        "    downsample = tf.keras.layers.Lambda(lambda x: x)\n",
        "\n",
        "  residual = downsample(inputs)\n",
        "\n",
        "  x = tf.keras.layers.Conv2D(filters=filter_num,\n",
        "                             kernel_size=(3, 3),\n",
        "                             strides=stride,\n",
        "                             padding=\"same\")(inputs)\n",
        "  x = tf.keras.layers.BatchNormalization()(x, training=training)\n",
        "  x = tf.keras.layers.Activation('relu')(x)\n",
        "  x = tf.keras.layers.Conv2D(filters=filter_num,\n",
        "                             kernel_size=(3, 3),\n",
        "                             strides=1,\n",
        "                             padding=\"same\",\n",
        "                             activation=\"relu\")(x)\n",
        "  x = tf.keras.layers.BatchNormalization()(x, training=training)\n",
        "\n",
        "  x = tf.keras.layers.Add()([residual, x])\n",
        "  output = tf.keras.layers.Activation('relu')(x)\n",
        "  \n",
        "  return output"
      ],
      "execution_count": 5,
      "outputs": []
    },
    {
      "cell_type": "code",
      "metadata": {
        "id": "K4DDwhWZw_kX"
      },
      "source": [
        "def BottleNeck(inputs, filter_num, training=None, stride=1, **kwargs):\n",
        " \n",
        "    downsample = tf.keras.Sequential()\n",
        "    downsample.add(tf.keras.layers.Conv2D(filters=filter_num * 4,\n",
        "                                          kernel_size=(1, 1),\n",
        "                                          strides=stride))\n",
        "    downsample.add(tf.keras.layers.BatchNormalization())\n",
        "   \n",
        "    residual = downsample(inputs)\n",
        "\n",
        "    x = tf.keras.layers.Conv2D(filters=filter_num,\n",
        "                               kernel_size=(1, 1),\n",
        "                               strides=1,\n",
        "                               padding='same')(inputs)\n",
        "    x = tf.keras.layers.BatchNormalization()(x, training=training)\n",
        "    x = tf.keras.layers.Activation('relu')(x)\n",
        "    x = tf.keras.layers.Conv2D(filters=filter_num,\n",
        "                               kernel_size=(3, 3),\n",
        "                               strides=stride,\n",
        "                               padding='same')(x)\n",
        "    x = tf.keras.layers.BatchNormalization()(x, training=training)\n",
        "    x = tf.keras.layers.Activation('relu')(x)\n",
        "    x = tf.keras.layers.Conv2D(filters=filter_num * 4,\n",
        "                               kernel_size=(1, 1),\n",
        "                               strides=1,\n",
        "                               padding='same')(x)\n",
        "    x = tf.keras.layers.BatchNormalization()(x, training=training)\n",
        "\n",
        "    x = tf.keras.layers.Add()([residual, x])\n",
        "    output = tf.keras.layers.Activation('relu')(x)\n",
        "\n",
        "    return output"
      ],
      "execution_count": 6,
      "outputs": []
    },
    {
      "cell_type": "code",
      "metadata": {
        "id": "972-t7aMxHdH"
      },
      "source": [
        "def make_basic_block_layer(x, filter_num, blocks, training, stride=1):\n",
        "\n",
        "    x = BasicBlock(x, filter_num, training, stride=stride)\n",
        "    for _ in range(1, blocks):\n",
        "        x = BasicBlock(x, filter_num, training, stride=1)\n",
        "\n",
        "    return x"
      ],
      "execution_count": 7,
      "outputs": []
    },
    {
      "cell_type": "code",
      "metadata": {
        "id": "A7G60bukxKI8"
      },
      "source": [
        "def make_bottleneck_layer(filter_num, blocks, stride=1):\n",
        "    \n",
        "    x = BottleNeck(x, filter_num, training, stride=stride)\n",
        "\n",
        "    for _ in range(1, blocks):\n",
        "        x = BottleNeck(x, filter_num, training, stride=1)\n",
        "\n",
        "    return res_block"
      ],
      "execution_count": 8,
      "outputs": []
    },
    {
      "cell_type": "code",
      "metadata": {
        "id": "HLhMWhYXxUo_"
      },
      "source": [
        "def ResNetTypeI(layer_params, training=None, mask=None):\n",
        "    inputs = tf.keras.layers.Input(shape=(32, 32, 3))\n",
        "    x = tf.keras.layers.Conv2D(filters=64,\n",
        "                               kernel_size=(7, 7),\n",
        "                               strides=2,\n",
        "                               padding=\"same\")(inputs)\n",
        "    x = tf.keras.layers.BatchNormalization()(x, training=training)\n",
        "    x = tf.keras.layers.Activation('relu')(x)\n",
        "    x = tf.keras.layers.MaxPool2D(pool_size=(3, 3),\n",
        "                                  strides=2,\n",
        "                                  padding=\"same\")(x)\n",
        "    x = make_basic_block_layer(x, filter_num=64,  blocks=layer_params[0], training=training)\n",
        "    x = make_basic_block_layer(x, filter_num=128, blocks=layer_params[1], training=training, stride=2)\n",
        "    x = make_basic_block_layer(x, filter_num=256, blocks=layer_params[2], training=training, stride=2)\n",
        "    x = make_basic_block_layer(x, filter_num=512, blocks=layer_params[3], training=training, stride=2)\n",
        "    x = tf.keras.layers.GlobalAveragePooling2D()(x)\n",
        "    output = tf.keras.layers.Dense(units=NUM_CLASSES, activation=tf.keras.activations.softmax)(x)\n",
        "    \n",
        "    model = tf.keras.Model(inputs=inputs, outputs=output, name='Resnet34')\n",
        "    \n",
        "    return model"
      ],
      "execution_count": 9,
      "outputs": []
    },
    {
      "cell_type": "code",
      "metadata": {
        "id": "VQizNRMSxXBr"
      },
      "source": [
        "def ResNetTypeII(layer_params, training=None, mask=None):\n",
        "\n",
        "    inputs = tf.keras.layers.Input(shape=(32, 32, 3))\n",
        "    x = tf.keras.layers.Conv2D(filters=64,\n",
        "                               kernel_size=(7, 7),\n",
        "                               strides=2,\n",
        "                               padding=\"same\")(inputs)\n",
        "    x = tf.keras.layers.BatchNormalization()(x, training=training)\n",
        "    x = tf.keras.layers.Activation('relu')(x)\n",
        "    x = tf.keras.layers.MaxPool2D(pool_size=(3, 3),\n",
        "                                  strides=2,\n",
        "                                  padding=\"same\")(x)\n",
        "    x = make_bottleneck_layer(x, filter_num=64,  blocks=layer_params[0], training=training)\n",
        "    x = make_bottleneck_layer(x, filter_num=128, blocks=layer_params[1], training=training, stride=2)\n",
        "    x = make_bottleneck_layer(x, filter_num=256, blocks=layer_params[2], training=training, stride=2)\n",
        "    x = make_bottleneck_layer(x, filter_num=512, blocks=layer_params[3], training=training, stride=2)\n",
        "    x = tf.keras.layers.GlobalAveragePooling2D()(x)\n",
        "    output = tf.keras.layers.Dense(units=NUM_CLASSES, activation=tf.keras.activations.softmax)(x)\n",
        "\n",
        "    model = tf.keras.Model(inputs=inputs, outputs=output, name='Resnet34')\n",
        "\n",
        "    return model\n"
      ],
      "execution_count": 10,
      "outputs": []
    },
    {
      "cell_type": "code",
      "metadata": {
        "id": "FZVFDg8kxeMf"
      },
      "source": [
        "def resnet_34():\n",
        "  return ResNetTypeI(layer_params=[3, 4, 6, 3])"
      ],
      "execution_count": 11,
      "outputs": []
    },
    {
      "cell_type": "code",
      "metadata": {
        "id": "WTJJmwknxhRX"
      },
      "source": [
        "def scheduler(epoch):\n",
        "  \n",
        "  initial_lrate = (10 ** -3)\n",
        "  k = 0.1\n",
        "  lrate = initial_lrate * math.exp(-k * (epoch))\n",
        "  \n",
        "  return lrate"
      ],
      "execution_count": 12,
      "outputs": []
    },
    {
      "cell_type": "code",
      "metadata": {
        "colab": {
          "base_uri": "https://localhost:8080/",
          "height": 282
        },
        "id": "9OC7GfoUzK0l",
        "outputId": "eb54c866-8874-4742-8fcc-f81938ddfb66"
      },
      "source": [
        "epochs = [i for i in range(1, 50, 1)]\n",
        "lrate = [scheduler(i) for i in range(1, 50, 1)]\n",
        "plt.plot(epochs, lrate)"
      ],
      "execution_count": 13,
      "outputs": [
        {
          "output_type": "execute_result",
          "data": {
            "text/plain": [
              "[<matplotlib.lines.Line2D at 0x7efe588a5fd0>]"
            ]
          },
          "metadata": {
            "tags": []
          },
          "execution_count": 13
        },
        {
          "output_type": "display_data",
          "data": {
            "image/png": "[encoded data removed]",
            "text/plain": [
              "<Figure size 432x288 with 1 Axes>"
            ]
          },
          "metadata": {
            "tags": [],
            "needs_background": "light"
          }
        }
      ]
    },
    {
      "cell_type": "code",
      "metadata": {
        "id": "BWHmkqGxzP3i"
      },
      "source": [
        "callback = tf.keras.callbacks.LearningRateScheduler(scheduler)"
      ],
      "execution_count": 14,
      "outputs": []
    },
    {
      "cell_type": "code",
      "metadata": {
        "id": "APeorbgAzVxR"
      },
      "source": [
        "EPOCHS = 50\n",
        "NUM_CLASSES = 10"
      ],
      "execution_count": 15,
      "outputs": []
    },
    {
      "cell_type": "code",
      "metadata": {
        "id": "AQ4ckX53zZbu"
      },
      "source": [
        "x_train, x_test = x_train / 255.0, x_test / 255.0\n",
        "model = resnet_34()\n",
        "loss_object = tf.keras.losses.SparseCategoricalCrossentropy()\n",
        "optimizer = tf.keras.optimizers.Adam()\n",
        "train_accuracy = tf.keras.metrics.SparseCategoricalAccuracy(name='train_accuracy')\n",
        "model.compile(optimizer = optimizer, loss=loss_object, metrics=train_accuracy)"
      ],
      "execution_count": 16,
      "outputs": []
    },
    {
      "cell_type": "code",
      "metadata": {
        "colab": {
          "base_uri": "https://localhost:8080/"
        },
        "id": "X3DWGSy5zht8",
        "outputId": "38f99d04-6673-4ae2-91f9-b614d90d01d4"
      },
      "source": [
        "history = model.fit(x = x_train, y = y_train, epochs = EPOCHS, validation_data=(x_test, y_test), callbacks=[callback])"
      ],
      "execution_count": 17,
      "outputs": [
        {
          "output_type": "stream",
          "text": [
            "Epoch 1/50\n",
            "1563/1563 [==============================] - 91s 36ms/step - loss: 1.7482 - train_accuracy: 0.3845 - val_loss: 1.9073 - val_train_accuracy: 0.3664\n",
            "Epoch 2/50\n",
            "1563/1563 [==============================] - 58s 37ms/step - loss: 1.3534 - train_accuracy: 0.5266 - val_loss: 2.3387 - val_train_accuracy: 0.2725\n",
            "Epoch 3/50\n",
            "1563/1563 [==============================] - 56s 36ms/step - loss: 1.2281 - train_accuracy: 0.5762 - val_loss: 1.7037 - val_train_accuracy: 0.4710\n",
            "Epoch 4/50\n",
            "1563/1563 [==============================] - 56s 36ms/step - loss: 1.2059 - train_accuracy: 0.5859 - val_loss: 1.3854 - val_train_accuracy: 0.5499\n",
            "Epoch 5/50\n",
            "1563/1563 [==============================] - 56s 36ms/step - loss: 0.9986 - train_accuracy: 0.6586 - val_loss: 2.8022 - val_train_accuracy: 0.2951\n",
            "Epoch 6/50\n",
            "1563/1563 [==============================] - 56s 36ms/step - loss: 0.8833 - train_accuracy: 0.6986 - val_loss: 0.9660 - val_train_accuracy: 0.6628\n",
            "Epoch 7/50\n",
            "1563/1563 [==============================] - 56s 36ms/step - loss: 0.7734 - train_accuracy: 0.7350 - val_loss: 1.0581 - val_train_accuracy: 0.6485\n",
            "Epoch 8/50\n",
            "1563/1563 [==============================] - 56s 36ms/step - loss: 0.6910 - train_accuracy: 0.7648 - val_loss: 1.6867 - val_train_accuracy: 0.4401\n",
            "Epoch 9/50\n",
            "1563/1563 [==============================] - 58s 37ms/step - loss: 0.6265 - train_accuracy: 0.7827 - val_loss: 0.7906 - val_train_accuracy: 0.7297\n",
            "Epoch 10/50\n",
            "1563/1563 [==============================] - 56s 36ms/step - loss: 0.5016 - train_accuracy: 0.8270 - val_loss: 1.1410 - val_train_accuracy: 0.6524\n",
            "Epoch 11/50\n",
            "1563/1563 [==============================] - 56s 36ms/step - loss: 0.4223 - train_accuracy: 0.8547 - val_loss: 0.9444 - val_train_accuracy: 0.7178\n",
            "Epoch 12/50\n",
            "1563/1563 [==============================] - 56s 36ms/step - loss: 0.3373 - train_accuracy: 0.8832 - val_loss: 1.1836 - val_train_accuracy: 0.7151\n",
            "Epoch 13/50\n",
            "1563/1563 [==============================] - 56s 36ms/step - loss: 0.2819 - train_accuracy: 0.9025 - val_loss: 0.8509 - val_train_accuracy: 0.7545\n",
            "Epoch 14/50\n",
            "1563/1563 [==============================] - 56s 36ms/step - loss: 0.1946 - train_accuracy: 0.9327 - val_loss: 0.9711 - val_train_accuracy: 0.7537\n",
            "Epoch 15/50\n",
            "1563/1563 [==============================] - 56s 36ms/step - loss: 0.2150 - train_accuracy: 0.9277 - val_loss: 0.9033 - val_train_accuracy: 0.7561\n",
            "Epoch 16/50\n",
            "1563/1563 [==============================] - 56s 36ms/step - loss: 0.1226 - train_accuracy: 0.9581 - val_loss: 1.0473 - val_train_accuracy: 0.7596\n",
            "Epoch 17/50\n",
            "1563/1563 [==============================] - 56s 36ms/step - loss: 0.0829 - train_accuracy: 0.9723 - val_loss: 1.1669 - val_train_accuracy: 0.7531\n",
            "Epoch 18/50\n",
            "1563/1563 [==============================] - 56s 36ms/step - loss: 0.0707 - train_accuracy: 0.9757 - val_loss: 1.7261 - val_train_accuracy: 0.7464\n",
            "Epoch 19/50\n",
            "1563/1563 [==============================] - 58s 37ms/step - loss: 0.0556 - train_accuracy: 0.9811 - val_loss: 1.4983 - val_train_accuracy: 0.7250\n",
            "Epoch 20/50\n",
            "1563/1563 [==============================] - 56s 36ms/step - loss: 0.0436 - train_accuracy: 0.9853 - val_loss: 1.2855 - val_train_accuracy: 0.7556\n",
            "Epoch 21/50\n",
            "1563/1563 [==============================] - 56s 36ms/step - loss: 0.0334 - train_accuracy: 0.9884 - val_loss: 4.5941 - val_train_accuracy: 0.7477\n",
            "Epoch 22/50\n",
            "1563/1563 [==============================] - 58s 37ms/step - loss: 0.0286 - train_accuracy: 0.9905 - val_loss: 7.8712 - val_train_accuracy: 0.7370\n",
            "Epoch 23/50\n",
            "1563/1563 [==============================] - 56s 36ms/step - loss: 0.0258 - train_accuracy: 0.9915 - val_loss: 4.5621 - val_train_accuracy: 0.7463\n",
            "Epoch 24/50\n",
            "1563/1563 [==============================] - 56s 36ms/step - loss: 0.0180 - train_accuracy: 0.9945 - val_loss: 1.9646 - val_train_accuracy: 0.7557\n",
            "Epoch 25/50\n",
            "1563/1563 [==============================] - 56s 36ms/step - loss: 0.0192 - train_accuracy: 0.9936 - val_loss: 1.9001 - val_train_accuracy: 0.7584\n",
            "Epoch 26/50\n",
            "1563/1563 [==============================] - 56s 36ms/step - loss: 0.0113 - train_accuracy: 0.9966 - val_loss: 2.5373 - val_train_accuracy: 0.7612\n",
            "Epoch 27/50\n",
            "1563/1563 [==============================] - 56s 36ms/step - loss: 0.0104 - train_accuracy: 0.9967 - val_loss: 7.6761 - val_train_accuracy: 0.7490\n",
            "Epoch 28/50\n",
            "1563/1563 [==============================] - 56s 36ms/step - loss: 0.0093 - train_accuracy: 0.9973 - val_loss: 3.6984 - val_train_accuracy: 0.7500\n",
            "Epoch 29/50\n",
            "1563/1563 [==============================] - 56s 36ms/step - loss: 0.0063 - train_accuracy: 0.9982 - val_loss: 5.7201 - val_train_accuracy: 0.7413\n",
            "Epoch 30/50\n",
            "1563/1563 [==============================] - 56s 36ms/step - loss: 0.0073 - train_accuracy: 0.9974 - val_loss: 2.6123 - val_train_accuracy: 0.7567\n",
            "Epoch 31/50\n",
            "1563/1563 [==============================] - 56s 36ms/step - loss: 0.0073 - train_accuracy: 0.9980 - val_loss: 2.2615 - val_train_accuracy: 0.7590\n",
            "Epoch 32/50\n",
            "1563/1563 [==============================] - 56s 36ms/step - loss: 0.0045 - train_accuracy: 0.9986 - val_loss: 2.2034 - val_train_accuracy: 0.7623\n",
            "Epoch 33/50\n",
            "1563/1563 [==============================] - 56s 36ms/step - loss: 0.0037 - train_accuracy: 0.9988 - val_loss: 3.2517 - val_train_accuracy: 0.7559\n",
            "Epoch 34/50\n",
            "1563/1563 [==============================] - 56s 36ms/step - loss: 0.0030 - train_accuracy: 0.9993 - val_loss: 3.7286 - val_train_accuracy: 0.7554\n",
            "Epoch 35/50\n",
            "1563/1563 [==============================] - 56s 36ms/step - loss: 0.0031 - train_accuracy: 0.9994 - val_loss: 4.4999 - val_train_accuracy: 0.7554\n",
            "Epoch 36/50\n",
            "1563/1563 [==============================] - 56s 36ms/step - loss: 0.0027 - train_accuracy: 0.9992 - val_loss: 3.2971 - val_train_accuracy: 0.7553\n",
            "Epoch 37/50\n",
            "1563/1563 [==============================] - 56s 36ms/step - loss: 0.0024 - train_accuracy: 0.9993 - val_loss: 2.3950 - val_train_accuracy: 0.7571\n",
            "Epoch 38/50\n",
            "1563/1563 [==============================] - 56s 36ms/step - loss: 0.0024 - train_accuracy: 0.9993 - val_loss: 4.0363 - val_train_accuracy: 0.7564\n",
            "Epoch 39/50\n",
            "1563/1563 [==============================] - 56s 36ms/step - loss: 0.0017 - train_accuracy: 0.9996 - val_loss: 5.0253 - val_train_accuracy: 0.7555\n",
            "Epoch 40/50\n",
            "1563/1563 [==============================] - 56s 36ms/step - loss: 0.0020 - train_accuracy: 0.9996 - val_loss: 3.9077 - val_train_accuracy: 0.7596\n",
            "Epoch 41/50\n",
            "1563/1563 [==============================] - 56s 36ms/step - loss: 0.0015 - train_accuracy: 0.9997 - val_loss: 3.9790 - val_train_accuracy: 0.7594\n",
            "Epoch 42/50\n",
            "1563/1563 [==============================] - 56s 36ms/step - loss: 0.0011 - train_accuracy: 0.9997 - val_loss: 5.8277 - val_train_accuracy: 0.7554\n",
            "Epoch 43/50\n",
            "1563/1563 [==============================] - 56s 36ms/step - loss: 7.6262e-04 - train_accuracy: 0.9999 - val_loss: 5.0114 - val_train_accuracy: 0.7597\n",
            "Epoch 44/50\n",
            "1563/1563 [==============================] - 56s 36ms/step - loss: 0.0011 - train_accuracy: 0.9997 - val_loss: 5.6016 - val_train_accuracy: 0.7576\n",
            "Epoch 45/50\n",
            "1563/1563 [==============================] - 56s 36ms/step - loss: 0.0010 - train_accuracy: 0.9997 - val_loss: 4.6538 - val_train_accuracy: 0.7610\n",
            "Epoch 46/50\n",
            "1563/1563 [==============================] - 58s 37ms/step - loss: 6.9333e-04 - train_accuracy: 0.9999 - val_loss: 5.0288 - val_train_accuracy: 0.7590\n",
            "Epoch 47/50\n",
            "1563/1563 [==============================] - 56s 36ms/step - loss: 8.0490e-04 - train_accuracy: 0.9998 - val_loss: 5.1504 - val_train_accuracy: 0.7587\n",
            "Epoch 48/50\n",
            "1563/1563 [==============================] - 56s 36ms/step - loss: 6.6000e-04 - train_accuracy: 0.9999 - val_loss: 5.1053 - val_train_accuracy: 0.7559\n",
            "Epoch 49/50\n",
            "1563/1563 [==============================] - 56s 36ms/step - loss: 6.7968e-04 - train_accuracy: 0.9998 - val_loss: 4.1439 - val_train_accuracy: 0.7565\n",
            "Epoch 50/50\n",
            "1563/1563 [==============================] - 56s 36ms/step - loss: 7.8269e-04 - train_accuracy: 0.9998 - val_loss: 6.9459 - val_train_accuracy: 0.7534\n"
          ],
          "name": "stdout"
        }
      ]
    },
    {
      "cell_type": "code",
      "metadata": {
        "id": "3OyAmTz8zi6J"
      },
      "source": [
        "history_dict = history.history\n",
        "\n",
        "loss = history_dict[\"loss\"]\n",
        "train_accuracy = history_dict[\"train_accuracy\"]\n",
        "val_loss = history_dict[\"val_loss\"]\n",
        "val_train_accuracy = history_dict[\"val_train_accuracy\"]"
      ],
      "execution_count": 18,
      "outputs": []
    },
    {
      "cell_type": "code",
      "metadata": {
        "colab": {
          "base_uri": "https://localhost:8080/",
          "height": 334
        },
        "id": "vhL1EMkbzzBD",
        "outputId": "79adabbd-aba8-425c-fcaf-2aba65b2800c"
      },
      "source": [
        "epochs = range(1, len(loss) + 1)\n",
        "fig, (ax1, ax2) = plt.subplots(1, 2)\n",
        "\n",
        "fig.set_figheight(5)\n",
        "fig.set_figwidth(15)\n",
        "\n",
        "ax1.plot(epochs, loss, label = \"Training Loss\")\n",
        "ax1.plot(epochs, val_loss, label = \"Validation Loss\")\n",
        "ax1.set(xlabel = \"Epochs\", ylabel = \"Loss\")\n",
        "ax1.legend()\n",
        "\n",
        "ax2.plot(epochs, train_accuracy, label = \"Training Accuracy\")\n",
        "ax2.plot(epochs, val_train_accuracy, label = \"Validation Training Accuracy\")\n",
        "ax2.set(xlabel = \"Epochs\", ylabel = \"Accuracy\")\n",
        "ax2.legend()\n",
        "\n",
        "plt.show()"
      ],
      "execution_count": 19,
      "outputs": [
        {
          "output_type": "display_data",
          "data": {
            "image/png": "[encoded data removed]",
            "text/plain": [
              "<Figure size 1080x360 with 2 Axes>"
            ]
          },
          "metadata": {
            "tags": [],
            "needs_background": "light"
          }
        }
      ]
    },
    {
      "cell_type": "code",
      "metadata": {
        "colab": {
          "base_uri": "https://localhost:8080/"
        },
        "id": "qDbNxxfhz1sZ",
        "outputId": "fbb0d147-982b-41b0-ce94-68d5c7cc82d5"
      },
      "source": [
        "model.save(\"resnet-34\")"
      ],
      "execution_count": 20,
      "outputs": [
        {
          "output_type": "stream",
          "text": [
            "INFO:tensorflow:Assets written to: resnet-34/assets\n"
          ],
          "name": "stdout"
        }
      ]
    }
  ]
}