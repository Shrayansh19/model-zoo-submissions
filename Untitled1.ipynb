{
  "nbformat": 4,
  "nbformat_minor": 0,
  "metadata": {
    "colab": {
      "name": "Untitled1.ipynb",
      "provenance": [],
      "authorship_tag": "ABX9TyPHuritpLaBhnk9OcqyyGbC",
      "include_colab_link": true
    },
    "kernelspec": {
      "name": "python3",
      "display_name": "Python 3"
    },
    "language_info": {
      "name": "python"
    }
  },
  "cells": [
    {
      "cell_type": "markdown",
      "metadata": {
        "id": "view-in-github",
        "colab_type": "text"
      },
      "source": [
        "<a href=\"https://colab.research.google.com/github/Shrayansh19/model-zoo-submissions/blob/main/Untitled1.ipynb\" target=\"_parent\"><img src=\"https://colab.research.google.com/assets/colab-badge.svg\" alt=\"Open In Colab\"/></a>"
      ]
    },
    {
      "cell_type": "code",
      "metadata": {
        "id": "l7Ias3cosN-b"
      },
      "source": [
        "import tensorflow as tf\n",
        "from tensorflow.keras import datasets, layers, models\n",
        "import os\n",
        "import math\n",
        "import matplotlib.pyplot as plt\n",
        "\n",
        "import warnings"
      ],
      "execution_count": null,
      "outputs": []
    },
    {
      "cell_type": "code",
      "metadata": {
        "id": "9Q5Sq2a1ap1W",
        "colab": {
          "base_uri": "https://localhost:8080/"
        },
        "outputId": "083d4db9-4775-4c1c-bf60-106dd7f877d9"
      },
      "source": [
        "(x_train, y_train), (x_test, y_test) = datasets.cifar10.load_data()\n",
        "x_train. shape"
      ],
      "execution_count": null,
      "outputs": [
        {
          "output_type": "stream",
          "text": [
            "Downloading data from https://www.cs.toronto.edu/~kriz/cifar-10-python.tar.gz\n",
            "170500096/170498071 [==============================] - 2s 0us/step\n"
          ],
          "name": "stdout"
        },
        {
          "output_type": "execute_result",
          "data": {
            "text/plain": [
              "(50000, 32, 32, 3)"
            ]
          },
          "metadata": {
            "tags": []
          },
          "execution_count": 4
        }
      ]
    },
    {
      "cell_type": "code",
      "metadata": {
        "id": "6elOxbEspjg2"
      },
      "source": [
        "def BasicBlock(inputs, filter_num, training=None, stride=1, **kwargs):\n",
        "  \n",
        "  if stride != 1:\n",
        "    downsample = tf.keras.Sequential()\n",
        "    downsample.add(tf.keras.layers.Conv2D(filters=filter_num,\n",
        "                                          kernel_size=(1, 1),\n",
        "                                          strides=stride))\n",
        "    downsample.add(tf.keras.layers.BatchNormalization())\n",
        "  else:\n",
        "    downsample = tf.keras.layers.Lambda(lambda x: x)\n",
        "\n",
        "  residual = downsample(inputs)\n",
        "\n",
        "  x = tf.keras.layers.Conv2D(filters=filter_num,\n",
        "                             kernel_size=(3, 3),\n",
        "                             strides=stride,\n",
        "                             padding=\"same\")(inputs)\n",
        "  x = tf.keras.layers.BatchNormalization()(x, training=training)\n",
        "  x = tf.keras.layers.Activation('relu')(x)\n",
        "  x = tf.keras.layers.Conv2D(filters=filter_num,\n",
        "                             kernel_size=(3, 3),\n",
        "                             strides=1,\n",
        "                             padding=\"same\",\n",
        "                             activation=\"relu\")(x)\n",
        "  x = tf.keras.layers.BatchNormalization()(x, training=training)\n",
        "\n",
        "  x = tf.keras.layers.Add()([residual, x])\n",
        "  output = tf.keras.layers.Activation('relu')(x)\n",
        "  \n",
        "  return output"
      ],
      "execution_count": null,
      "outputs": []
    },
    {
      "cell_type": "code",
      "metadata": {
        "id": "xz5KOYzJe_iM"
      },
      "source": [
        "def BottleNeck(inputs, filter_num, training=None, stride=1, **kwargs):\n",
        " \n",
        "    downsample = tf.keras.Sequential()\n",
        "    downsample.add(tf.keras.layers.Conv2D(filters=filter_num * 4,\n",
        "                                          kernel_size=(1, 1),\n",
        "                                          strides=stride))\n",
        "    downsample.add(tf.keras.layers.BatchNormalization())\n",
        "   \n",
        "    residual = downsample(inputs)\n",
        "\n",
        "    x = tf.keras.layers.Conv2D(filters=filter_num,\n",
        "                               kernel_size=(1, 1),\n",
        "                               strides=1,\n",
        "                               padding='same')(inputs)\n",
        "    x = tf.keras.layers.BatchNormalization()(x, training=training)\n",
        "    x = tf.keras.layers.Activation('relu')(x)\n",
        "    x = tf.keras.layers.Conv2D(filters=filter_num,\n",
        "                               kernel_size=(3, 3),\n",
        "                               strides=stride,\n",
        "                               padding='same')(x)\n",
        "    x = tf.keras.layers.BatchNormalization()(x, training=training)\n",
        "    x = tf.keras.layers.Activation('relu')(x)\n",
        "    x = tf.keras.layers.Conv2D(filters=filter_num * 4,\n",
        "                               kernel_size=(1, 1),\n",
        "                               strides=1,\n",
        "                               padding='same')(x)\n",
        "    x = tf.keras.layers.BatchNormalization()(x, training=training)\n",
        "\n",
        "    x = tf.keras.layers.Add()([residual, x])\n",
        "    output = tf.keras.layers.Activation('relu')(x)\n",
        "\n",
        "    return output"
      ],
      "execution_count": null,
      "outputs": []
    },
    {
      "cell_type": "code",
      "metadata": {
        "id": "LunZLk0yfAzC"
      },
      "source": [
        "def make_basic_block_layer(x, filter_num, blocks, training, stride=1):\n",
        "\n",
        "    x = BasicBlock(x, filter_num, training, stride=stride)\n",
        "    for _ in range(1, blocks):\n",
        "        x = BasicBlock(x, filter_num, training, stride=1)\n",
        "\n",
        "    return x"
      ],
      "execution_count": null,
      "outputs": []
    },
    {
      "cell_type": "code",
      "metadata": {
        "id": "33FbzPyXfIp1"
      },
      "source": [
        ""
      ],
      "execution_count": null,
      "outputs": []
    }
  ]
}